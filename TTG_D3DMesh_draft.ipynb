{
 "cells": [
  {
   "cell_type": "code",
   "execution_count": 70,
   "metadata": {},
   "outputs": [],
   "source": [
    "from io import BufferedReader\n",
    "import struct\n",
    "\n",
    "# Utility reader subclass\n",
    "class WBR(BufferedReader):\n",
    "  \"\"\"\n",
    "  Collection of macros for smoothly translating RTB's MaxScript\n",
    "  \n",
    "  Most of the time long/short ints are unsigned\n",
    "  \"\"\"\n",
    "  \n",
    "  def readLong(self, signed = False):\n",
    "    \"\"\"Read long int\"\"\"\n",
    "    return struct.unpack('l' if signed else 'L', self.read(4))[0]\n",
    "\n",
    "  def readLongSigned(self):\n",
    "    \"\"\"Shorthand for readLong(signed=True)\"\"\"\n",
    "    return self.readLong(True)\n",
    "\n",
    "  def readByte(self, signed = False):\n",
    "    \"\"\"Read short int\"\"\"\n",
    "    return struct.unpack('h' if signed else 'H', self.read(2))[0]\n",
    "\n",
    "  def readString(self, n : int):\n",
    "    return ''.join([x.decode() for x in struct.unpack('c'*n, self.read(n))])\n",
    "  \n",
    "  def readFloat(self):\n",
    "    \"\"\"Read Float\"\"\"\n",
    "    return struct.unpack('f', self.read(4))[0]\n",
    "  \n",
    "  def seek_rel(self, offset):\n",
    "    \"\"\"Seek relative to current position\"\"\"\n",
    "    return super().seek(offset, 1)\n",
    "  \n",
    "  def seek_abs(self, offset):\n",
    "    \"\"\"Seek relative to 0\"\"\"\n",
    "    return super().seek(offset, 0)"
   ]
  },
  {
   "cell_type": "code",
   "execution_count": 71,
   "metadata": {},
   "outputs": [
    {
     "name": "stdout",
     "output_type": "stream",
     "text": [
      "MSV6\n",
      "MSV6...\n",
      "FileSize = 295465\n",
      "ParamCount = 29\n",
      "D3DNameHeaderLength 28, D3DNameLength 20\n",
      "Importing obj_carTaxiA.d3dmesh (Version 55)...\n"
     ]
    }
   ],
   "source": [
    "f = open(r\"C:\\Users\\woas\\Downloads\\d3d\\input\\obj_carTaxiA.d3dmesh\", 'rb')\n",
    "f = WBR(f)\n",
    "\n",
    "\n",
    "VerboseLevel = 1\n",
    "header = f.readLong()\n",
    "HeaderMagic = header.to_bytes(4).decode('ascii')\n",
    "print(f\"HeaderMagic = {HeaderMagic}\")\n",
    "FileSize = f.readLong()\n",
    "print(f\"FileSize = {FileSize}\")\n",
    "f.seek_rel(0x08)\n",
    "ParamCount = f.readLong()\n",
    "print(f\"ParamCount = {ParamCount}\")\n",
    "for x in range(ParamCount):\n",
    "  if VerboseLevel > 2:\n",
    "    print(f\"Unknown param {f.read(0x0C).decode('ansi')}\")\n",
    "  else:\n",
    "    f.seek_rel(0x0C)\n",
    "D3DNameHeaderLength = f.readLong()\n",
    "D3DNameLength = f.readLong()\n",
    "if D3DNameLength > D3DNameHeaderLength:\n",
    "  f.seek_rel(-0x04)\n",
    "  D3DNameLength = D3DNameHeaderLength\n",
    "\n",
    "print(f\"D3DNameHeaderLength {D3DNameHeaderLength}, D3DNameLength {D3DNameLength}\")\n",
    "D3DName = f.readString(D3DNameLength)\n",
    "VerNum = f.readByte()\n",
    "print(f\"Importing {D3DName} (Version {VerNum})...\")\n",
    "MatInfoStart = f.tell() + 0x13 #skipping Section 1 (Model Info)"
   ]
  },
  {
   "cell_type": "code",
   "execution_count": 72,
   "metadata": {},
   "outputs": [],
   "source": [
    "#TODO Find & Parse *.skl files"
   ]
  },
  {
   "cell_type": "code",
   "execution_count": 73,
   "metadata": {},
   "outputs": [
    {
     "name": "stdout",
     "output_type": "stream",
     "text": [
      "Section 2 (Material Info) start @417\n",
      "Material Count = 9\n",
      "Material #0 @421\n",
      "Material Parameter Count = 6\n",
      "Material #1 @4336\n",
      "Material Parameter Count = 7\n",
      "Material #2 @8371\n",
      "Material Parameter Count = 6\n",
      "Material #3 @12293\n",
      "Material Parameter Count = 6\n",
      "Material #4 @16144\n",
      "Material Parameter Count = 7\n",
      "Material #5 @20304\n",
      "Material Parameter Count = 7\n",
      "Material #6 @24464\n",
      "Material Parameter Count = 7\n",
      "Material #7 @28624\n",
      "Material Parameter Count = 6\n",
      "Material #8 @32546\n",
      "Material Parameter Count = 6\n",
      "Section 2 (Material Info) end @36468\n"
     ]
    }
   ],
   "source": [
    "# Section 2 (Material Info)\n",
    "f.seek_abs(MatInfoStart)\n",
    "print(f\"Section 2 (Material Info) start @{f.tell()}\")\n",
    "MatCount = f.readLong()\n",
    "print(f\"Material Count = {MatCount}\")\n",
    "\n",
    "#Parsing Material Info\n",
    "for x in range(MatCount):\n",
    "  print(f\"Material #{x} @{f.tell()}\")\n",
    "  MatHash2 = f.readLong()\n",
    "  MatHash1 = f.readLong()\n",
    "  UnkHash2 = f.readLong()\n",
    "  UnkHash1 = f.readLong()\n",
    "  MatHeaderSize = f.tell() + f.readLong()\n",
    "\n",
    "  MatUnk1 = f.readLong()\n",
    "  MatUnk2 = f.readLong()\n",
    "  MatHeaderSizeB = f.readLong()\n",
    "\n",
    "  MatUnk3Count = f.readLong()\n",
    "  for m in range(MatUnk3Count):\n",
    "    MatUnk3Hash2 = f.readLong()\n",
    "    MatUnk3Hash1 = f.readLong()\n",
    "\n",
    "  MatParamCount = f.readLong()\n",
    "  TexDifName = \"undefined\"\n",
    "  print(f\"Material Parameter Count = {MatParamCount}\")\n",
    "  for x in range(MatCount):\n",
    "    #TODO parse Material Params\n",
    "    pass\n",
    "\n",
    "  f.seek(MatHeaderSize)\n",
    "print(f\"Section 2 (Material Info) end @{f.tell()}\")"
   ]
  },
  {
   "cell_type": "code",
   "execution_count": 74,
   "metadata": {},
   "outputs": [
    {
     "name": "stdout",
     "output_type": "stream",
     "text": [
      "Section 3 (LOD info) start @ 36480, Count = 204800\n"
     ]
    }
   ],
   "source": [
    "#FaceDataStart + Section 3 (LOD)\n",
    "unk = f.readLong()\n",
    "pad = f.readLong()\n",
    "FaceDataStart = f.tell() + f.readLong() #WOAS: I'd just like to point out how random it is for this pointer to be here of all places, can't imagine how RTB figured this out\n",
    "\n",
    "Sect3End = f.tell() + f.readLong()\n",
    "Sect3Count = f.readLong()\n",
    "print(f\"Section 3 (LOD info) start @ {f.tell()-8}, Count = {Sect3Count}\")\n",
    "\n",
    "#TODO Parse LOD Info"
   ]
  },
  {
   "cell_type": "code",
   "execution_count": 75,
   "metadata": {},
   "outputs": [
    {
     "name": "stdout",
     "output_type": "stream",
     "text": [
      "<class '__main__.WBR'>\n"
     ]
    }
   ],
   "source": [
    "f.seek(Sect3End)\n",
    "Sect4End = f.tell() + f.readLong()\n",
    "print(type(f))"
   ]
  },
  {
   "cell_type": "code",
   "execution_count": 76,
   "metadata": {},
   "outputs": [],
   "source": [
    "f.close()"
   ]
  }
 ],
 "metadata": {
  "kernelspec": {
   "display_name": "Python 3",
   "language": "python",
   "name": "python3"
  },
  "language_info": {
   "codemirror_mode": {
    "name": "ipython",
    "version": 3
   },
   "file_extension": ".py",
   "mimetype": "text/x-python",
   "name": "python",
   "nbconvert_exporter": "python",
   "pygments_lexer": "ipython3",
   "version": "3.12.1"
  }
 },
 "nbformat": 4,
 "nbformat_minor": 2
}
